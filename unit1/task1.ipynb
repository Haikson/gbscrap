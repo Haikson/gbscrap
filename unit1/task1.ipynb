{
 "cells": [
  {
   "cell_type": "code",
   "execution_count": 1,
   "metadata": {
    "pycharm": {
     "is_executing": false
    }
   },
   "outputs": [],
   "source": [
    "import requests\n",
    "import os\n",
    "import json\n",
    "CURRENT_PATH = os.path.dirname(os.path.abspath('__file__'))\n"
   ]
  },
  {
   "cell_type": "markdown",
   "metadata": {},
   "source": [
    "1. Посмотреть документацию к API GitHub, разобраться как вывести список репозиториев для конкретного пользователя, сохранить JSON-вывод в файле *.json."
   ]
  },
  {
   "cell_type": "code",
   "execution_count": 2,
   "metadata": {
    "scrolled": true,
    "pycharm": {
     "is_executing": false
    }
   },
   "outputs": [
    {
     "name": "stdout",
     "text": [
      "['1_typo', '2_wallie_how_are_you', '3_bars', '4_json', '5_lang_frequency', '6_password_strength', '7_mistery_fix', 'ckeditor5-build-classic', 'code2pdf', 'cpp_algo', 'dformat', 'django', 'django-autocomplete-light', 'django-cms-news', 'django-datetime-widget-fa', 'django-fancypages', 'django-nginx-uwsgi', 'ez_setup', 'flask_project', 'foundation-sites', 'gbscrap', 'geekbdb', 'gentoo-packer', 'higher_mathematics', 'Idgen', 'jSlider', 'MurmurStrings', 'parsel', 'pybooks', 'pynger', 'PythonDS', 'python_snippets', 'Red-Black-Tree', 'sitemap-generator', 'sqtest', 'Stepic_web2', 'swp', 'TestProject', 'virtenviro-news'] 39\n"
     ],
     "output_type": "stream"
    }
   ],
   "source": [
    "githyb_repos_url = 'https://api.github.com/users/Haikson/repos?page=1&per_page=100'\n",
    "resp = requests.get(githyb_repos_url)\n",
    "with open(os.path.join(CURRENT_PATH, '..', 'data', 'github_haikson_repos.json'), 'w') as df:\n",
    "    df.write(resp.text)\n",
    "repositories = resp.json()\n",
    "print([repo.get('name') for repo in repositories], len(repositories))"
   ]
  },
  {
   "cell_type": "markdown",
   "metadata": {},
   "source": [
    "Сравним содержимое файла с ответом (корректность сохранения)"
   ]
  },
  {
   "cell_type": "code",
   "execution_count": 3,
   "metadata": {
    "pycharm": {
     "is_executing": false
    }
   },
   "outputs": [
    {
     "name": "stdout",
     "text": [
      "True\n"
     ],
     "output_type": "stream"
    }
   ],
   "source": [
    "with open(os.path.join(CURRENT_PATH, '..', 'data', 'github_haikson_repos.json'), 'r') as df:\n",
    "    f_repositories = json.load(df)\n",
    "print(len(set([repo.get('name') for repo in f_repositories]) - set([repo.get('name') for repo in repositories])) == 0)"
   ]
  },
  {
   "cell_type": "markdown",
   "metadata": {},
   "source": [
    "2. Изучить список открытых API. Найти среди них любое, требующее авторизацию (любого типа). Выполнить запросы к нему, пройдя авторизацию. Ответ сервера записать в файл."
   ]
  },
  {
   "cell_type": "code",
   "execution_count": 3,
   "metadata": {
    "pycharm": {
     "is_executing": false
    }
   },
   "outputs": [],
   "source": []
  },
  {
   "cell_type": "code",
   "execution_count": 3,
   "metadata": {
    "pycharm": {
     "is_executing": false
    }
   },
   "outputs": [],
   "source": []
  }
 ],
 "metadata": {
  "kernelspec": {
   "display_name": "Python 3",
   "language": "python",
   "name": "python3"
  },
  "language_info": {
   "codemirror_mode": {
    "name": "ipython",
    "version": 3
   },
   "file_extension": ".py",
   "mimetype": "text/x-python",
   "name": "python",
   "nbconvert_exporter": "python",
   "pygments_lexer": "ipython3",
   "version": "3.7.5"
  }
 },
 "nbformat": 4,
 "nbformat_minor": 2
}