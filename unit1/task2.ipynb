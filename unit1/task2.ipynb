{
 "cells": [
  {
   "cell_type": "code",
   "execution_count": 7,
   "metadata": {
    "collapsed": true,
    "pycharm": {
     "is_executing": false
    }
   },
   "outputs": [],
   "source": [
    "from sqlalchemy import create_engine\n",
    "from sqlalchemy.ext.declarative import declarative_base\n",
    "from sqlalchemy import Table, Column, Integer, String, MetaData, ForeignKey,\\\n",
    "    Date, Float\n",
    "from sqlalchemy.orm import sessionmaker\n",
    "from sqlalchemy.sql import ClauseElement\n",
    "\n",
    "engine = create_engine('sqlite:///:memory:', echo=True)"
   ]
  },
  {
   "cell_type": "code",
   "execution_count": 8,
   "outputs": [
    {
     "name": "stdout",
     "text": [
      "2019-12-12 00:15:23,930 INFO sqlalchemy.engine.base.Engine SELECT CAST('test plain returns' AS VARCHAR(60)) AS anon_1\n",
      "2019-12-12 00:15:23,932 INFO sqlalchemy.engine.base.Engine ()\n",
      "2019-12-12 00:15:23,934 INFO sqlalchemy.engine.base.Engine SELECT CAST('test unicode returns' AS VARCHAR(60)) AS anon_1\n",
      "2019-12-12 00:15:23,936 INFO sqlalchemy.engine.base.Engine ()\n",
      "2019-12-12 00:15:23,939 INFO sqlalchemy.engine.base.Engine PRAGMA main.table_info(\"categories\")\n",
      "2019-12-12 00:15:23,940 INFO sqlalchemy.engine.base.Engine ()\n",
      "2019-12-12 00:15:23,942 INFO sqlalchemy.engine.base.Engine PRAGMA temp.table_info(\"categories\")\n",
      "2019-12-12 00:15:23,943 INFO sqlalchemy.engine.base.Engine ()\n",
      "2019-12-12 00:15:23,944 INFO sqlalchemy.engine.base.Engine PRAGMA main.table_info(\"goods\")\n",
      "2019-12-12 00:15:23,947 INFO sqlalchemy.engine.base.Engine ()\n",
      "2019-12-12 00:15:23,949 INFO sqlalchemy.engine.base.Engine PRAGMA temp.table_info(\"goods\")\n",
      "2019-12-12 00:15:23,951 INFO sqlalchemy.engine.base.Engine ()\n",
      "2019-12-12 00:15:23,956 INFO sqlalchemy.engine.base.Engine PRAGMA main.table_info(\"promo\")\n",
      "2019-12-12 00:15:23,959 INFO sqlalchemy.engine.base.Engine ()\n",
      "2019-12-12 00:15:23,961 INFO sqlalchemy.engine.base.Engine PRAGMA temp.table_info(\"promo\")\n",
      "2019-12-12 00:15:23,963 INFO sqlalchemy.engine.base.Engine ()\n",
      "2019-12-12 00:15:23,965 INFO sqlalchemy.engine.base.Engine \n",
      "CREATE TABLE categories (\n",
      "\tid INTEGER NOT NULL, \n",
      "\tname VARCHAR, \n",
      "\tcode VARCHAR, \n",
      "\tPRIMARY KEY (id)\n",
      ")\n",
      "\n",
      "\n",
      "2019-12-12 00:15:23,967 INFO sqlalchemy.engine.base.Engine ()\n",
      "2019-12-12 00:15:23,969 INFO sqlalchemy.engine.base.Engine COMMIT\n",
      "2019-12-12 00:15:23,973 INFO sqlalchemy.engine.base.Engine \n",
      "CREATE TABLE promo (\n",
      "\tid INTEGER NOT NULL, \n",
      "\tname VARCHAR, \n",
      "\tdate_begin DATE, \n",
      "\tdate_end DATE, \n",
      "\tpromo_type VARCHAR, \n",
      "\tdescription VARCHAR, \n",
      "\tkind VARCHAR, \n",
      "\texpired_at INTEGER, \n",
      "\tPRIMARY KEY (id)\n",
      ")\n",
      "\n",
      "\n",
      "2019-12-12 00:15:23,974 INFO sqlalchemy.engine.base.Engine ()\n",
      "2019-12-12 00:15:23,976 INFO sqlalchemy.engine.base.Engine COMMIT\n",
      "2019-12-12 00:15:23,979 INFO sqlalchemy.engine.base.Engine \n",
      "CREATE TABLE goods (\n",
      "\tid INTEGER NOT NULL, \n",
      "\tname VARCHAR, \n",
      "\tmech VARCHAR, \n",
      "\timg_link VARCHAR, \n",
      "\tprice_reg_min FLOAT, \n",
      "\tprice_promo_min FLOAT, \n",
      "\tcategory_id INTEGER, \n",
      "\tpromo_id INTEGER, \n",
      "\tPRIMARY KEY (id), \n",
      "\tFOREIGN KEY(category_id) REFERENCES categories (id), \n",
      "\tFOREIGN KEY(promo_id) REFERENCES promo (id)\n",
      ")\n",
      "\n",
      "\n",
      "2019-12-12 00:15:23,982 INFO sqlalchemy.engine.base.Engine ()\n",
      "2019-12-12 00:15:23,984 INFO sqlalchemy.engine.base.Engine COMMIT\n"
     ],
     "output_type": "stream"
    }
   ],
   "source": [
    "Model = declarative_base()\n",
    "Session = sessionmaker()\n",
    "Session.configure(bind=engine)\n",
    "\n",
    "class Category(Model):\n",
    "    __tablename__ = 'categories'\n",
    "    \n",
    "    id = Column('id', Integer, primary_key=True)\n",
    "    name = Column('name', String)\n",
    "    code = Column('code', String)\n",
    "    \n",
    "    def __init__(self, id, name, code):\n",
    "        self.id = id\n",
    "        self.name = name\n",
    "        self.code = code\n",
    "        \n",
    "    def __repr__(self):\n",
    "        return '<Category ({id}, {name}, {code})>'.format(\n",
    "            id=self.id, name=self.name, code=self.code)\n",
    "    \n",
    "    @property\n",
    "    def pk(self):\n",
    "        return self.id\n",
    "    \n",
    "\n",
    "class Goods(Model):\n",
    "    __tablename__ = 'goods'\n",
    "    \n",
    "    id = Column('id', Integer, primary_key=True)\n",
    "    name = Column('name', String)\n",
    "    mech = Column('mech', String)\n",
    "    img_link = Column('img_link', String)\n",
    "    price_reg_min = Column('price_reg_min', Float)\n",
    "    price_promo_min = Column('price_promo_min', Float)\n",
    "    category = Column('category_id', ForeignKey('categories.id'))\n",
    "    promo = Column('promo_id', ForeignKey('promo.id'))\n",
    "    \n",
    "    def __init__(self, id, name, price_reg_min, price_promo_min, mech=None, img_link=None):\n",
    "        self.id = id\n",
    "        self.name = name\n",
    "        self.mech = mech\n",
    "        self.img_link = img_link\n",
    "        self.price_reg_min = price_reg_min\n",
    "        self.price_promo_min = price_promo_min\n",
    "        \n",
    "    def __repr__(self):\n",
    "        return '<Category ({id}, {name})>'.format(id=self.id, name=self.name)\n",
    "    \n",
    "    @property\n",
    "    def pk(self):\n",
    "        return self.id\n",
    "    \n",
    "\n",
    "class Promo(Model):\n",
    "    __tablename__ = 'promo'\n",
    "    \n",
    "    id = Column('id', Integer, primary_key=True)\n",
    "    name = Column('name', String)\n",
    "    date_begin = Column('date_begin', Date)\n",
    "    date_end = Column('date_end', Date)\n",
    "    promo_type = Column('promo_type', String)\n",
    "    description = Column('description', String)\n",
    "    kind = Column('kind', String)\n",
    "    expired_at = Column('expired_at', Integer)\n",
    "    \n",
    "    def __init__(self, id, date_begin, date_end, promo_type, description, kind, expired_at):\n",
    "        self.id = id\n",
    "        self.date_begin = date_begin\n",
    "        self.date_end = date_end\n",
    "        self.promo_type = promo_type\n",
    "        self.description = description\n",
    "        self.kind = kind\n",
    "        self.expired_at = expired_at\n",
    "        \n",
    "    def __repr__(self):\n",
    "        return '<Category ({id}, {name})>'.format(id=self.id, name=self.name)\n",
    "    \n",
    "    @property\n",
    "    def pk(self):\n",
    "        return self.id\n",
    "    \n",
    "Model.metadata.create_all(engine)"
   ],
   "metadata": {
    "collapsed": false,
    "pycharm": {
     "name": "#%%\n",
     "is_executing": false
    }
   }
  },
  {
   "cell_type": "code",
   "execution_count": 20,
   "outputs": [],
   "source": [
    "def get_or_create(session, model, defaults=None, **kwargs):\n",
    "    instance = session.query(model).filter_by(**kwargs).first()\n",
    "    if instance:\n",
    "        return instance, False\n",
    "    else:\n",
    "        params = dict((k, v) for k, v in kwargs.items() if not isinstance(v, ClauseElement))\n",
    "        params.update(defaults or {})\n",
    "        instance = model(**params)\n",
    "        session.add(instance)\n",
    "        return instance, True"
   ],
   "metadata": {
    "collapsed": false,
    "pycharm": {
     "name": "#%%\n",
     "is_executing": false
    }
   }
  },
  {
   "cell_type": "code",
   "execution_count": 10,
   "outputs": [],
   "source": [
    "import requests\n",
    "import json\n",
    "from datetime import datetime\n",
    "\n",
    "class ResponseError(BaseException):\n",
    "    \"\"\"\n",
    "    Class for response exceptions\n",
    "    \"\"\""
   ],
   "metadata": {
    "collapsed": false,
    "pycharm": {
     "name": "#%%\n",
     "is_executing": false
    }
   }
  },
  {
   "cell_type": "code",
   "execution_count": 11,
   "outputs": [],
   "source": [
    "def get_page_result(url):\n",
    "    response = requests.get(url)\n",
    "    if response.status_code != 200:\n",
    "        raise ResponseError(\"Error {code}\".format(code=response.status_code))\n",
    "    return response.json()"
   ],
   "metadata": {
    "collapsed": false,
    "pycharm": {
     "name": "#%%\n",
     "is_executing": false
    }
   }
  },
  {
   "cell_type": "code",
   "execution_count": 17,
   "outputs": [],
   "source": [
    "def save_result(data):\n",
    "    results = data.get('results', [])\n",
    "    session = Session()\n",
    "    for result in results:\n",
    "        promo_data = result.get(\"promo\", {})\n",
    "        promo, _ = get_or_create(session, Promo, \n",
    "            date_begin=datetime.strptime(promo_data.get(\"date_begin\"), \"%Y-%m-%d\").date(),\n",
    "            date_end=datetime.strptime(promo_data.get(\"date_end\"), \"%Y-%m-%d\").date(),\n",
    "            promo_type=promo_data.get(\"promo_type\"),\n",
    "            description=promo_data.get(\"description\"),\n",
    "            kind=promo_data.get(\"kind\"),\n",
    "            expired_at=promo_data.get(\"expired_at\")\n",
    "        )\n",
    "        \n",
    "        goods, _ = get_or_create(Session, Goods,\n",
    "            id=result.get(\"id\"),\n",
    "            name=result.get(\"name\"),\n",
    "            mech=result.get(\"mech\"),\n",
    "            img_link=result.get(\"img_link\"),\n",
    "            price_reg_min=result.get(\"price_reg_min\"),\n",
    "            price_promo_min=result.get(\"price_promo_min\")\n",
    "        )\n",
    "        "
   ],
   "metadata": {
    "collapsed": false,
    "pycharm": {
     "name": "#%%\n",
     "is_executing": false
    }
   }
  },
  {
   "cell_type": "code",
   "execution_count": null,
   "outputs": [],
   "source": [
    "start_url = \"https://5ka.ru/api/v2/special_offers/?records_per_page=20&page=1\"\n",
    "result = get_page_result(start_url)\n",
    "save_result(result)"
   ],
   "metadata": {
    "collapsed": false,
    "pycharm": {
     "name": "#%% \n",
     "is_executing": true
    }
   }
  },
  {
   "cell_type": "code",
   "execution_count": null,
   "outputs": [],
   "source": [
    "next_page = result.get('next')\n",
    "\n",
    "session = Session()\n",
    "goods = session.query(Goods).all()\n",
    "print(goods)"
   ],
   "metadata": {
    "collapsed": false,
    "pycharm": {
     "name": "#%% \n",
     "is_executing": false
    }
   }
  }
 ],
 "metadata": {
  "kernelspec": {
   "display_name": "Python 3",
   "language": "python",
   "name": "python3"
  },
  "language_info": {
   "codemirror_mode": {
    "name": "ipython",
    "version": 2
   },
   "file_extension": ".py",
   "mimetype": "text/x-python",
   "name": "python",
   "nbconvert_exporter": "python",
   "pygments_lexer": "ipython2",
   "version": "2.7.6"
  },
  "pycharm": {
   "stem_cell": {
    "cell_type": "raw",
    "source": [],
    "metadata": {
     "collapsed": false
    }
   }
  }
 },
 "nbformat": 4,
 "nbformat_minor": 0
}