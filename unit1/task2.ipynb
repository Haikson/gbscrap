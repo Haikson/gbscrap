{
 "cells": [
  {
   "cell_type": "code",
   "execution_count": 1,
   "metadata": {
    "pycharm": {
     "is_executing": false
    }
   },
   "outputs": [],
   "source": [
    "import os\n",
    "from sqlalchemy import create_engine\n",
    "from sqlalchemy.ext.declarative import declarative_base\n",
    "from sqlalchemy import Table, Column, Integer, String, MetaData, ForeignKey,\\\n",
    "    Date, Float\n",
    "from sqlalchemy.orm import sessionmaker, scoped_session, relationship\n",
    "from sqlalchemy.sql import ClauseElement"
   ]
  },
  {
   "cell_type": "code",
   "execution_count": 2,
   "metadata": {
    "pycharm": {
     "name": "#%%\n"
    }
   },
   "outputs": [],
   "source": [
    "CURRENT_PATH = os.path.dirname(os.path.abspath('__file__'))\n",
    "engine = create_engine('sqlite:///{}'.format(os.path.join(CURRENT_PATH, '..', 'data', '5ka.sqlite')), echo=False)\n",
    "\n",
    "Model = declarative_base()\n",
    "Session = scoped_session(sessionmaker(bind=engine, autocommit=True))"
   ]
  },
  {
   "cell_type": "code",
   "execution_count": 3,
   "metadata": {
    "pycharm": {
     "is_executing": false,
     "name": "#%%\n"
    }
   },
   "outputs": [],
   "source": [
    "goods_categories = Table('goods_categories', Model.metadata,\n",
    "    Column('goods_id', Integer, ForeignKey('goods.id')),\n",
    "    Column('category_id', Integer, ForeignKey('categories.id'))\n",
    ")\n",
    "\n",
    "class Category(Model):\n",
    "    __tablename__ = 'categories'\n",
    "    \n",
    "    id = Column('id', Integer, primary_key=True)\n",
    "    name = Column('name', String)\n",
    "    code = Column('code', String)\n",
    "    goods = relationship(\"Goods\", secondary=goods_categories, back_populates=\"categories\")\n",
    "    \n",
    "    def __init__(self, name, code):\n",
    "        self.name = name\n",
    "        self.code = code\n",
    "        \n",
    "    def __repr__(self):\n",
    "        return '<Category ({id}, {name}, {code})>'.format(\n",
    "            id=self.id, name=self.name, code=self.code)\n",
    "    \n",
    "    @property\n",
    "    def pk(self):\n",
    "        return self.id\n",
    "    \n",
    "\n",
    "class Goods(Model):\n",
    "    __tablename__ = 'goods'\n",
    "    \n",
    "    id = Column('id', Integer, primary_key=True)\n",
    "    name = Column('name', String)\n",
    "    mech = Column('mech', String)\n",
    "    img_link = Column('img_link', String)\n",
    "    price_reg_min = Column('price_reg_min', Float)\n",
    "    price_promo_min = Column('price_promo_min', Float)\n",
    "    promo = Column('promo_id', ForeignKey('promo.id'))\n",
    "    categories = relationship(\"Category\", secondary=goods_categories, back_populates=\"goods\")\n",
    "    \n",
    "    \n",
    "    def __init__(self, id, name, price_reg_min, price_promo_min, mech=None, img_link=None, promo=None):\n",
    "        self.id = id\n",
    "        self.name = name\n",
    "        self.mech = mech\n",
    "        self.img_link = img_link\n",
    "        self.price_reg_min = price_reg_min\n",
    "        self.price_promo_min = price_promo_min\n",
    "        self.category=category\n",
    "        self.promo=promo\n",
    "        \n",
    "    def __repr__(self):\n",
    "        return '<Goods ({id}, {name})>'.format(id=self.id, name=self.name)\n",
    "    \n",
    "    @property\n",
    "    def pk(self):\n",
    "        return self.id\n",
    "    \n",
    "\n",
    "class Promo(Model):\n",
    "    __tablename__ = 'promo'\n",
    "    \n",
    "    id = Column('id', Integer, primary_key=True)\n",
    "    name = Column('name', String)\n",
    "    date_begin = Column('date_begin', Date)\n",
    "    date_end = Column('date_end', Date)\n",
    "    promo_type = Column('promo_type', String)\n",
    "    description = Column('description', String)\n",
    "    kind = Column('kind', String)\n",
    "    expired_at = Column('expired_at', Integer)\n",
    "    \n",
    "    def __init__(self, id, date_begin, date_end, promo_type, description, kind, expired_at):\n",
    "        self.id = id\n",
    "        self.date_begin = date_begin\n",
    "        self.date_end = date_end\n",
    "        self.promo_type = promo_type\n",
    "        self.description = description\n",
    "        self.kind = kind\n",
    "        self.expired_at = expired_at\n",
    "        \n",
    "    def __repr__(self):\n",
    "        return '<Promo ({id}, {name})>'.format(id=self.id, name=self.name)\n",
    "    \n",
    "    @property\n",
    "    def pk(self):\n",
    "        return self.id\n",
    "    \n",
    "Model.metadata.create_all(engine)"
   ]
  },
  {
   "cell_type": "code",
   "execution_count": 4,
   "metadata": {
    "pycharm": {
     "is_executing": false,
     "name": "#%%\n"
    }
   },
   "outputs": [],
   "source": [
    "def get_or_create(session, model, defaults=None, **kwargs):\n",
    "    instance = session.query(model).filter_by(**kwargs).first()\n",
    "    if instance:\n",
    "        return instance, False\n",
    "    else:\n",
    "        params = dict((k, v) for k, v in kwargs.items() if not isinstance(v, ClauseElement))\n",
    "        params.update(defaults or {})\n",
    "        instance = model(**params)\n",
    "        session.add(instance)\n",
    "        return instance, True"
   ]
  },
  {
   "cell_type": "code",
   "execution_count": 5,
   "metadata": {
    "pycharm": {
     "is_executing": false,
     "name": "#%%\n"
    }
   },
   "outputs": [],
   "source": [
    "import requests\n",
    "import json\n",
    "from datetime import datetime\n",
    "import time\n",
    "\n",
    "class ResponseError(BaseException):\n",
    "    \"\"\"\n",
    "    Class for response exceptions\n",
    "    \"\"\""
   ]
  },
  {
   "cell_type": "code",
   "execution_count": 7,
   "metadata": {
    "pycharm": {
     "is_executing": false,
     "name": "#%%\n"
    }
   },
   "outputs": [],
   "source": [
    "def get_page_result(url, try_n=0):\n",
    "    response = requests.get(url)\n",
    "    if response.status_code >= 500:\n",
    "        if try_n < 10:\n",
    "            time.sleep(3)\n",
    "            try_n += 1\n",
    "            return get_page_result(url, try_n)\n",
    "        else:\n",
    "            return {}\n",
    "    elif response.status_code != 200:\n",
    "        return {}\n",
    "    return response.json()"
   ]
  },
  {
   "cell_type": "code",
   "execution_count": 8,
   "metadata": {
    "pycharm": {
     "name": "#%%\n"
    }
   },
   "outputs": [],
   "source": [
    "def parse_categories():\n",
    "    session = Session()\n",
    "    url = \"https://5ka.ru/api/v2/categories/\"\n",
    "    results = get_page_result(url)\n",
    "    categories = [Category(name=res.get(\"parent_group_name\"), code=res.get(\"parent_group_code\")) for res in results]\n",
    "    session.add_all(categories)\n",
    "    return session.query(Category).all()"
   ]
  },
  {
   "cell_type": "code",
   "execution_count": 9,
   "metadata": {
    "pycharm": {
     "is_executing": false,
     "name": "#%%\n"
    }
   },
   "outputs": [],
   "source": [
    "def save_result(data, category):\n",
    "    results = data.get('results', [])\n",
    "    session = Session()\n",
    "    for result in results:\n",
    "        promo_data = result.get(\"promo\", {})\n",
    "        promo, _ = get_or_create(\n",
    "            session, Promo, \n",
    "            id=promo_data.get('id'),\n",
    "            date_begin=datetime.strptime(promo_data.get(\"date_begin\"), \"%Y-%m-%d\").date(),\n",
    "            date_end=datetime.strptime(promo_data.get(\"date_end\"), \"%Y-%m-%d\").date(),\n",
    "            promo_type=promo_data.get(\"promo_type\"),\n",
    "            description=promo_data.get(\"description\"),\n",
    "            kind=promo_data.get(\"kind\"),\n",
    "            expired_at=promo_data.get(\"expired_at\")\n",
    "        )\n",
    "        \n",
    "        goods, _ = get_or_create(\n",
    "            session, Goods,\n",
    "            id=result.get(\"id\"),\n",
    "            name=result.get(\"name\"),\n",
    "            mech=result.get(\"mech\"),\n",
    "            img_link=result.get(\"img_link\"),\n",
    "            price_reg_min=result.get(\"price_reg_min\"),\n",
    "            price_promo_min=result.get(\"price_promo_min\"),\n",
    "            promo=promo.pk\n",
    "        )\n",
    "        goods.categories.append(category)"
   ]
  },
  {
   "cell_type": "code",
   "execution_count": 10,
   "metadata": {
    "pycharm": {
     "name": "#%%\n"
    }
   },
   "outputs": [],
   "source": [
    "def parse_goods(next_page, category):\n",
    "    while next_page is not None:\n",
    "        result = get_page_result(start_url)\n",
    "        save_result(result, category)\n",
    "        next_page = result.get('next')\n",
    "        time.sleep(3)\n",
    "        "
   ]
  },
  {
   "cell_type": "code",
   "execution_count": 11,
   "metadata": {
    "pycharm": {
     "is_executing": false,
     "name": "#%% \n"
    }
   },
   "outputs": [
    {
     "data": {
      "text/plain": [
       "('Бананы', 'PUI1')"
      ]
     },
     "execution_count": 11,
     "metadata": {},
     "output_type": "execute_result"
    }
   ],
   "source": [
    "categories = parse_categories()\n",
    "categories[0].name, categories[0].code"
   ]
  },
  {
   "cell_type": "code",
   "execution_count": 12,
   "metadata": {
    "pycharm": {
     "name": "#%%\n"
    }
   },
   "outputs": [],
   "source": [
    "session=Session()\n",
    "start_urls = {\n",
    "    \"https://5ka.ru/api/v2/special_offers/?records_per_page=20&page=1&categories={category}\".format(\n",
    "        category=category.code\n",
    "    ): category\n",
    "    for category in session.query(Category)\n",
    "}"
   ]
  },
  {
   "cell_type": "code",
   "execution_count": null,
   "metadata": {
    "pycharm": {
     "name": "#%% \n"
    }
   },
   "outputs": [],
   "source": [
    "for start_url, category in start_urls.items():\n",
    "    parse_goods(start_url, category)\n",
    "    "
   ]
  },
  {
   "cell_type": "code",
   "execution_count": null,
   "metadata": {
    "pycharm": {
     "name": "#%%\n"
    }
   },
   "outputs": [],
   "source": [
    "goods_count = session.query(Goods).count()\n",
    "print(goods_count)"
   ]
  },
  {
   "cell_type": "code",
   "execution_count": null,
   "outputs": [],
   "source": [
    "engine.dispose()"
   ],
   "metadata": {
    "collapsed": false,
    "pycharm": {
     "name": "#%%\n"
    }
   }
  },
  {
   "cell_type": "code",
   "execution_count": null,
   "metadata": {},
   "outputs": [],
   "source": [
    "engine.dispose()"
   ]
  }
 ],
 "metadata": {
  "kernelspec": {
   "display_name": "Python 3",
   "language": "python",
   "name": "python3"
  },
  "language_info": {
   "codemirror_mode": {
    "name": "ipython",
    "version": 3
   },
   "file_extension": ".py",
   "mimetype": "text/x-python",
   "name": "python",
   "nbconvert_exporter": "python",
   "pygments_lexer": "ipython3",
   "version": "3.7.5"
  },
  "pycharm": {
   "stem_cell": {
    "cell_type": "raw",
    "source": [],
    "metadata": {
     "collapsed": false
    }
   }
  }
 },
 "nbformat": 4,
 "nbformat_minor": 1
}