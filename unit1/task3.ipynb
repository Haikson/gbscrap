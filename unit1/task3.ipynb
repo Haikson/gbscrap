{
 "cells": [
  {
   "cell_type": "markdown",
   "metadata": {
    "pycharm": {
     "is_executing": false,
     "name": "#%% md\n"
    }
   },
   "source": [
    "Python code at https://github.com/Haikson/gbscrap/blob/master/unit1/task3.py\n",
    "\n",
    "\n",
    "Ваше задание:\n",
    "\n",
    "Источник: https://geekbrains.ru/posts\n",
    "\n",
    "Задача:\n",
    "\n",
    "необходимо обойти все публикации в блоге и сохранить в MongoDB следующую информацию: Заголовок статьи, ссылка на статью, дата публикации (только дата без времени), Имя автора\n",
    "\n",
    "Обход делаем с помощью BS4 + Requests"
   ]
  },
  {
   "cell_type": "code",
   "execution_count": 30,
   "metadata": {
    "pycharm": {
     "name": "#%%\n",
     "is_executing": false
    }
   },
   "outputs": [],
   "source": [
    "import requests\n",
    "from bs4 import BeautifulSoup"
   ]
  },
  {
   "cell_type": "code",
   "execution_count": 31,
   "outputs": [],
   "source": [
    "def get_page_content(url):\n",
    "    resp = requests.get(url)\n",
    "    if resp.status_code >= 400:\n",
    "        return \"\"\n",
    "    else:\n",
    "        return resp.text\n",
    "    "
   ],
   "metadata": {
    "collapsed": false,
    "pycharm": {
     "name": "#%%\n",
     "is_executing": false
    }
   }
  },
  {
   "cell_type": "code",
   "execution_count": 32,
   "outputs": [],
   "source": [
    "base_url = \"https://geekbrains.ru\"\n",
    "start_url = \"https://geekbrains.ru/posts\"\n",
    "html = get_page_content(start_url)\n",
    "soup = BeautifulSoup(html)"
   ],
   "metadata": {
    "collapsed": false,
    "pycharm": {
     "name": "#%%\n",
     "is_executing": false
    }
   }
  },
  {
   "cell_type": "code",
   "execution_count": 33,
   "outputs": [
    {
     "data": {
      "text/plain": "'53'"
     },
     "metadata": {},
     "output_type": "execute_result",
     "execution_count": 33
    }
   ],
   "source": [
    "paginator = soup.findAll('ul', {'class': 'gb__pagination'})[0]\n",
    "paginator.contents[-2].contents[0].text"
   ],
   "metadata": {
    "collapsed": false,
    "pycharm": {
     "name": "#%%\n",
     "is_executing": false
    }
   }
  },
  {
   "cell_type": "code",
   "execution_count": 34,
   "outputs": [],
   "source": [
    "def norm_link(url: str):\n",
    "    if url.startswith('/'):\n",
    "        return base_url + url\n",
    "    return url"
   ],
   "metadata": {
    "collapsed": false,
    "pycharm": {
     "name": "#%%\n",
     "is_executing": false
    }
   }
  },
  {
   "cell_type": "code",
   "execution_count": 35,
   "outputs": [],
   "source": [
    "def get_articles_list(html):\n",
    "    soup = BeautifulSoup(html)\n",
    "    links = set()\n",
    "    for link in soup.findAll('a', {'class': 'post-item__title'}):\n",
    "        links.add(norm_link(link['href']))\n",
    "    return links\n",
    "    \n",
    "def get_all_articles_list_pages():\n",
    "    soup = BeautifulSoup(get_page_content(start_url))\n",
    "    paginator = soup.find('ul', {'class': 'gb__pagination'})\n",
    "    pages_count = int(paginator.contents[-2].contents[0].text)\n",
    "    links = set()\n",
    "    for i in range(1, pages_count+1):\n",
    "        url = start_url + '?page={}'.format(i)\n",
    "        links.update(list(get_articles_list(get_page_content(url))))\n",
    "    return links"
   ],
   "metadata": {
    "collapsed": false,
    "pycharm": {
     "name": "#%%\n",
     "is_executing": false
    }
   }
  },
  {
   "cell_type": "code",
   "execution_count": 36,
   "outputs": [],
   "source": [
    "urls_todo = get_all_articles_list_pages()"
   ],
   "metadata": {
    "collapsed": false,
    "pycharm": {
     "name": "#%%\n",
     "is_executing": false
    }
   }
  },
  {
   "cell_type": "code",
   "execution_count": 37,
   "outputs": [],
   "source": [
    "from pymongo import MongoClient\n",
    "mongo_client = MongoClient('localhost', 27017)"
   ],
   "metadata": {
    "collapsed": false,
    "pycharm": {
     "name": "#%%\n",
     "is_executing": false
    }
   }
  },
  {
   "cell_type": "code",
   "execution_count": 38,
   "outputs": [],
   "source": [
    "db = mongo_client['gb_scrap']\n",
    "collection = db.gb_posts"
   ],
   "metadata": {
    "collapsed": false,
    "pycharm": {
     "name": "#%%\n",
     "is_executing": false
    }
   }
  },
  {
   "cell_type": "code",
   "execution_count": 39,
   "outputs": [
    {
     "data": {
      "text/plain": "['gb_posts']"
     },
     "metadata": {},
     "output_type": "execute_result",
     "execution_count": 39
    }
   ],
   "source": [
    "collection.deleteMany()"
   ],
   "metadata": {
    "collapsed": false,
    "pycharm": {
     "name": "#%%\n",
     "is_executing": false
    }
   }
  },
  {
   "cell_type": "code",
   "execution_count": 40,
   "outputs": [],
   "source": [
    "def add_to_mongo(collection, title, url, date, author):\n",
    "    \"\"\"\n",
    "    Заголовок статьи\n",
    "    ссылка на статью\n",
    "    дата публикации (только дата без времени)\n",
    "    Имя автора\n",
    "    :return: \n",
    "    \"\"\"\n",
    "    collection.insert({\n",
    "        'title': title,\n",
    "        'url': url,\n",
    "        'date': date,\n",
    "        'author': author\n",
    "    })"
   ],
   "metadata": {
    "collapsed": false,
    "pycharm": {
     "name": "#%%\n",
     "is_executing": false
    }
   }
  },
  {
   "cell_type": "code",
   "execution_count": 41,
   "outputs": [],
   "source": [
    "from datetime import datetime\n",
    "def parse_article(url):\n",
    "    html = get_page_content(url)\n",
    "    soup = BeautifulSoup(html)\n",
    "    title = soup.find('h1', {'class': 'blogpost-title'}).text\n",
    "    date = datetime.strptime(\n",
    "        soup.find('time')['datetime'].split(\"T\")[0],\n",
    "        \"%Y-%m-%d\"\n",
    "    )\n",
    "    author = soup.find('div', {\"itemprop\": \"author\"}).text\n",
    "    return {\n",
    "        'title': title,\n",
    "        'url': url,\n",
    "        'date': date,\n",
    "        'author': author\n",
    "    }"
   ],
   "metadata": {
    "collapsed": false,
    "pycharm": {
     "name": "#%%\n",
     "is_executing": false
    }
   }
  },
  {
   "cell_type": "code",
   "execution_count": null,
   "outputs": [
    {
     "name": "stderr",
     "text": [
      "/Users/k.petrosyan/dev/env/gbscrap/lib/python3.7/site-packages/ipykernel_launcher.py:13: DeprecationWarning: insert is deprecated. Use insert_one or insert_many instead.\n  del sys.path[0]\n"
     ],
     "output_type": "stream"
    }
   ],
   "source": [
    "for url in urls_todo:\n",
    "    try:\n",
    "        add_to_mongo(collection=collection, **parse_article(url))\n",
    "    except Exception as e:\n",
    "        print(e)"
   ],
   "metadata": {
    "collapsed": false,
    "pycharm": {
     "name": "#%%\n",
     "is_executing": true
    }
   }
  },
  {
   "cell_type": "code",
   "execution_count": null,
   "outputs": [],
   "source": [
    "collection.count() == len(urls_todo)"
   ],
   "metadata": {
    "collapsed": false,
    "pycharm": {
     "name": "#%%\n",
     "is_executing": true
    }
   }
  }
 ],
 "metadata": {
  "kernelspec": {
   "display_name": "Python 3",
   "language": "python",
   "name": "python3"
  },
  "language_info": {
   "codemirror_mode": {
    "name": "ipython",
    "version": 3
   },
   "file_extension": ".py",
   "mimetype": "text/x-python",
   "name": "python",
   "nbconvert_exporter": "python",
   "pygments_lexer": "ipython3",
   "version": "3.7.5"
  },
  "pycharm": {
   "stem_cell": {
    "cell_type": "raw",
    "source": [],
    "metadata": {
     "collapsed": false
    }
   }
  }
 },
 "nbformat": 4,
 "nbformat_minor": 1
}